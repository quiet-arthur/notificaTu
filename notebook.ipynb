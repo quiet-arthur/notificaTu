{
 "cells": [
  {
   "cell_type": "code",
   "execution_count": 3,
   "metadata": {},
   "outputs": [
    {
     "name": "stderr",
     "output_type": "stream",
     "text": [
      "Could not determine dtype for column 0, falling back to string\n"
     ]
    },
    {
     "name": "stdout",
     "output_type": "stream",
     "text": [
      "shape: (560, 14)\n",
      "┌────────────┬─────────────┬─────────────┬────────────┬───┬───────┬───────┬───────────┬────────────┐\n",
      "│ Referência ┆ Condomínio  ┆ CNPJ        ┆ Nome do    ┆ … ┆ Multa ┆ Juros ┆ Vlr Total ┆ Status     │\n",
      "│ ---        ┆ ---         ┆ ---         ┆ Pagador    ┆   ┆ ---   ┆ ---   ┆ ---       ┆ ---        │\n",
      "│ str        ┆ str         ┆ str         ┆ ---        ┆   ┆ str   ┆ str   ┆ str       ┆ str        │\n",
      "│            ┆             ┆             ┆ str        ┆   ┆       ┆       ┆           ┆            │\n",
      "╞════════════╪═════════════╪═════════════╪════════════╪═══╪═══════╪═══════╪═══════════╪════════════╡\n",
      "│ null       ┆ CONDOMINIO  ┆ 09.338.467/ ┆ ELIESDRAS  ┆ … ┆ 2,60  ┆ 4,98  ┆ 137,58    ┆ Vencido    │\n",
      "│            ┆ RESIDENCIAL ┆ 0001-10     ┆ PATROCINIO ┆   ┆       ┆       ┆           ┆            │\n",
      "│            ┆ SITIOCA…    ┆             ┆ SILVEIRA   ┆   ┆       ┆       ┆           ┆            │\n",
      "│ null       ┆ CONDOMINIO  ┆ 09.338.467/ ┆ ELIESDRAS  ┆ … ┆ 2,60  ┆ 2,32  ┆ 134,92    ┆ Vencido    │\n",
      "│            ┆ RESIDENCIAL ┆ 0001-10     ┆ PATROCINIO ┆   ┆       ┆       ┆           ┆            │\n",
      "│            ┆ SITIOCA…    ┆             ┆ SILVEIRA   ┆   ┆       ┆       ┆           ┆            │\n",
      "│ null       ┆ CONDOMINIO  ┆ 09.338.467/ ┆ SIMONE     ┆ … ┆ 2,60  ┆ 11,54 ┆ 144,14    ┆ Vencido    │\n",
      "│            ┆ RESIDENCIAL ┆ 0001-10     ┆ NAYARA     ┆   ┆       ┆       ┆           ┆            │\n",
      "│            ┆ SITIOCA…    ┆             ┆ CASSIANO   ┆   ┆       ┆       ┆           ┆            │\n",
      "│            ┆             ┆             ┆ DA SILV…   ┆   ┆       ┆       ┆           ┆            │\n",
      "│ null       ┆ CONDOMINIO  ┆ 09.338.467/ ┆ SIMONE     ┆ … ┆ 2,60  ┆ 10,12 ┆ 142,72    ┆ Vencido    │\n",
      "│            ┆ RESIDENCIAL ┆ 0001-10     ┆ NAYARA     ┆   ┆       ┆       ┆           ┆            │\n",
      "│            ┆ SITIOCA…    ┆             ┆ CASSIANO   ┆   ┆       ┆       ┆           ┆            │\n",
      "│            ┆             ┆             ┆ DA SILV…   ┆   ┆       ┆       ┆           ┆            │\n",
      "│ null       ┆ CONDOMINIO  ┆ 09.338.467/ ┆ SIMONE     ┆ … ┆ 2,60  ┆ 8,88  ┆ 141,48    ┆ Vencido    │\n",
      "│            ┆ RESIDENCIAL ┆ 0001-10     ┆ NAYARA     ┆   ┆       ┆       ┆           ┆            │\n",
      "│            ┆ SITIOCA…    ┆             ┆ CASSIANO   ┆   ┆       ┆       ┆           ┆            │\n",
      "│            ┆             ┆             ┆ DA SILV…   ┆   ┆       ┆       ┆           ┆            │\n",
      "│ …          ┆ …           ┆ …           ┆ …          ┆ … ┆ …     ┆ …     ┆ …         ┆ …          │\n",
      "│ null       ┆ CONDOMINIO  ┆ 09.338.467/ ┆ EBANO      ┆ … ┆ 2,60  ┆ 7,59  ┆ 140,19    ┆ Vencido    │\n",
      "│            ┆ RESIDENCIAL ┆ 0001-10     ┆ AUGUSTO DE ┆   ┆       ┆       ┆           ┆ Advogado   │\n",
      "│            ┆ SITIOCA…    ┆             ┆ OLIVEIRA   ┆   ┆       ┆       ┆           ┆            │\n",
      "│ null       ┆ CONDOMINIO  ┆ 09.338.467/ ┆ EBANO      ┆ … ┆ 2,60  ┆ 6,22  ┆ 138,82    ┆ Vencido    │\n",
      "│            ┆ RESIDENCIAL ┆ 0001-10     ┆ AUGUSTO DE ┆   ┆       ┆       ┆           ┆ Advogado   │\n",
      "│            ┆ SITIOCA…    ┆             ┆ OLIVEIRA   ┆   ┆       ┆       ┆           ┆            │\n",
      "│ null       ┆ CONDOMINIO  ┆ 09.338.467/ ┆ EBANO      ┆ … ┆ 2,60  ┆ 4,98  ┆ 137,58    ┆ Vencido    │\n",
      "│            ┆ RESIDENCIAL ┆ 0001-10     ┆ AUGUSTO DE ┆   ┆       ┆       ┆           ┆ Advogado   │\n",
      "│            ┆ SITIOCA…    ┆             ┆ OLIVEIRA   ┆   ┆       ┆       ┆           ┆            │\n",
      "│ null       ┆ CONDOMINIO  ┆ 09.338.467/ ┆ EBANO      ┆ … ┆ 2,60  ┆ 3,65  ┆ 136,25    ┆ Vencido    │\n",
      "│            ┆ RESIDENCIAL ┆ 0001-10     ┆ AUGUSTO DE ┆   ┆       ┆       ┆           ┆ Advogado   │\n",
      "│            ┆ SITIOCA…    ┆             ┆ OLIVEIRA   ┆   ┆       ┆       ┆           ┆            │\n",
      "│ null       ┆ CONDOMINIO  ┆ 09.338.467/ ┆ EBANO      ┆ … ┆ 2,60  ┆ 2,32  ┆ 134,92    ┆ Vencido    │\n",
      "│            ┆ RESIDENCIAL ┆ 0001-10     ┆ AUGUSTO DE ┆   ┆       ┆       ┆           ┆            │\n",
      "│            ┆ SITIOCA…    ┆             ┆ OLIVEIRA   ┆   ┆       ┆       ┆           ┆            │\n",
      "└────────────┴─────────────┴─────────────┴────────────┴───┴───────┴───────┴───────────┴────────────┘\n"
     ]
    }
   ],
   "source": [
    "import polars as pl\n",
    "df_inadim = pl.read_excel('sample/Inadimplencia Condomínio.xlsx')\n",
    "print(df_inadim)"
   ]
  },
  {
   "cell_type": "code",
   "execution_count": 51,
   "metadata": {},
   "outputs": [
    {
     "name": "stdout",
     "output_type": "stream",
     "text": [
      "shape: (560, 4)\n",
      "┌─────────────────────────────────┬─────────┬───────────┬────────────────────┐\n",
      "│ Nome do Pagador                 ┆ Unidade ┆ Vlr Total ┆ Status             │\n",
      "│ ---                             ┆ ---     ┆ ---       ┆ ---                │\n",
      "│ str                             ┆ i64     ┆ f64       ┆ str                │\n",
      "╞═════════════════════════════════╪═════════╪═══════════╪════════════════════╡\n",
      "│ ELIESDRAS PATROCINIO SILVEIRA   ┆ 2       ┆ 137.58    ┆ Vencido            │\n",
      "│ ELIESDRAS PATROCINIO SILVEIRA   ┆ 2       ┆ 134.92    ┆ Vencido            │\n",
      "│ SIMONE NAYARA CASSIANO DA SILV… ┆ 4       ┆ 144.14    ┆ Vencido            │\n",
      "│ SIMONE NAYARA CASSIANO DA SILV… ┆ 4       ┆ 142.72    ┆ Vencido            │\n",
      "│ SIMONE NAYARA CASSIANO DA SILV… ┆ 4       ┆ 141.48    ┆ Vencido            │\n",
      "│ …                               ┆ …       ┆ …         ┆ …                  │\n",
      "│ EBANO AUGUSTO DE OLIVEIRA       ┆ 99      ┆ 140.19    ┆ Vencido   Advogado │\n",
      "│ EBANO AUGUSTO DE OLIVEIRA       ┆ 99      ┆ 138.82    ┆ Vencido   Advogado │\n",
      "│ EBANO AUGUSTO DE OLIVEIRA       ┆ 99      ┆ 137.58    ┆ Vencido   Advogado │\n",
      "│ EBANO AUGUSTO DE OLIVEIRA       ┆ 99      ┆ 136.25    ┆ Vencido   Advogado │\n",
      "│ EBANO AUGUSTO DE OLIVEIRA       ┆ 99      ┆ 134.92    ┆ Vencido            │\n",
      "└─────────────────────────────────┴─────────┴───────────┴────────────────────┘\n"
     ]
    }
   ],
   "source": [
    "df = df_inadim.select(\n",
    "    pl.col('Nome do Pagador'),\n",
    "    pl.col('Unidade').cast(pl.Int64),\n",
    "    pl.col('Vlr Total').str.replace(',' , '.').cast(pl.Float64),\n",
    "    pl.col('Status'),\n",
    ")\n",
    "print(df)"
   ]
  },
  {
   "cell_type": "code",
   "execution_count": null,
   "metadata": {},
   "outputs": [
    {
     "name": "stdout",
     "output_type": "stream",
     "text": [
      "shape: (40, 3)\n",
      "┌─────────┬─────────────────────────────────┬──────────────┐\n",
      "│ Unidade ┆ Proprietario                    ┆ Total devido │\n",
      "│ ---     ┆ ---                             ┆ ---          │\n",
      "│ i64     ┆ str                             ┆ f64          │\n",
      "╞═════════╪═════════════════════════════════╪══════════════╡\n",
      "│ 2       ┆ ELIESDRAS PATROCINIO SILVEIRA   ┆ 272.5        │\n",
      "│ 4       ┆ SIMONE NAYARA CASSIANO DA SILV… ┆ 1116.1       │\n",
      "│ 7       ┆ MIRIAN GOMES MACHADO            ┆ 466.63       │\n",
      "│ 9       ┆ MARIANA PEREIRAANUNCIACAO       ┆ 136.25       │\n",
      "│ 12      ┆ TATIANA DA CRUZ TAVARES         ┆ 273.83       │\n",
      "│ …       ┆ …                               ┆ …            │\n",
      "│ 81      ┆ ANDERSON SILVA DA ANUNCIAÇÃO C… ┆ 953.06       │\n",
      "│ 89      ┆ HORTENCIO MENDES DA SILVA       ┆ 5031.09      │\n",
      "│ 93      ┆ JOCIMAR GUILHERME DA SLVA       ┆ 134.92       │\n",
      "│ 94      ┆ AIR MARQUES MARTINS             ┆ 7087.31      │\n",
      "│ 99      ┆ EBANO AUGUSTO DE OLIVEIRA       ┆ 9868.38      │\n",
      "└─────────┴─────────────────────────────────┴──────────────┘\n"
     ]
    }
   ],
   "source": [
    "df_grouped = df.group_by('Unidade', maintain_order=True).agg([\n",
    "    pl.first('Nome do Pagador').alias('Proprietario'),\n",
    "    pl.sum('Vlr Total').alias('Total devido')\n",
    "])\n",
    "print(df_grouped)"
   ]
  },
  {
   "cell_type": "code",
   "execution_count": null,
   "metadata": {},
   "outputs": [],
   "source": []
  }
 ],
 "metadata": {
  "kernelspec": {
   "display_name": ".venv",
   "language": "python",
   "name": "python3"
  },
  "language_info": {
   "codemirror_mode": {
    "name": "ipython",
    "version": 3
   },
   "file_extension": ".py",
   "mimetype": "text/x-python",
   "name": "python",
   "nbconvert_exporter": "python",
   "pygments_lexer": "ipython3",
   "version": "3.12.3"
  }
 },
 "nbformat": 4,
 "nbformat_minor": 2
}
