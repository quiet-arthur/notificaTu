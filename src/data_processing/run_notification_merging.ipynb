{
 "cells": [
  {
   "cell_type": "code",
   "execution_count": null,
   "metadata": {},
   "outputs": [],
   "source": [
    "import polars as pl\n",
    "\n",
    "df_inad = pl.read_excel('.sample/Bandeira3/Inadimplencia Condomínio.xlsx')\n",
    "\n",
    "if \"Bloco\" not in df_inad.columns:\n",
    "    df_inad = df_inad.with_columns([\n",
    "        pl.lit(1).alias(\"Bloco\")\n",
    "    ])\n",
    "df_inad = df_inad.select([\n",
    "    pl.col('Bloco').cast(pl.Int64),\n",
    "    pl.col('Unidade').cast(pl.Int64),\n",
    "    pl.col('Vlr Total'),\n",
    "])\n",
    "\n",
    "df_inad = df_inad.with_columns([\n",
    "    pl.col('Vlr Total')\n",
    "        .str.replace(\",\", \".\")\n",
    "        .cast(pl.Float64)\n",
    "])\n",
    "\n",
    "df_inad = df_inad.group_by(\n",
    "    pl.col('Bloco'),\n",
    "    pl.col('Unidade'),\n",
    "    maintain_order=True,\n",
    ").agg(\n",
    "    pl.col('Vlr Total').sum()\n",
    ")\n",
    "\n",
    "print(df_inad)"
   ]
  },
  {
   "cell_type": "code",
   "execution_count": null,
   "metadata": {},
   "outputs": [],
   "source": [
    "#Possivel melhoria: Verificar se existe telefone na coluna Telefone2 e preencher conforme null Telefone1\n",
    "\n",
    "df_unit_data = pl.read_excel('/home/notificaTu/.sample/Bandeira3/Unidades.xlsx')\n",
    "\n",
    "df_unit_data = df_unit_data.select([\n",
    "    pl.col('Unidade'),\n",
    "    pl.col('ProprietarioCpfCnpj').cast(str).str.replace(',', '').alias('CPF/CNPJ'),\n",
    "    pl.col('ProprietarioNome').alias('Proprietario'),\n",
    "    pl.col('ProprietarioTelefone1').cast(str).alias('Telefone'),\n",
    "    pl.col('ProprietarioEmail1').alias('E-mail'),\n",
    "])\n",
    "\n",
    "df_unit_data = df_unit_data.with_columns([\n",
    "    pl.when(\n",
    "        pl.col('Telefone').is_not_null() & \n",
    "        ~pl.col('Telefone').str.starts_with('67')\n",
    "    )\n",
    "    .then(pl.lit('+5567') + pl.col('Telefone'))\n",
    "    .otherwise(pl.lit('+55') + pl.col('Telefone'))\n",
    "    .alias('Telefone')\n",
    "])\n",
    "\n",
    "print(df_unit_data)"
   ]
  },
  {
   "cell_type": "code",
   "execution_count": 36,
   "metadata": {},
   "outputs": [
    {
     "data": {
      "text/plain": [
       "<xlsxwriter.workbook.Workbook at 0x7f3f11a42000>"
      ]
     },
     "execution_count": 36,
     "metadata": {},
     "output_type": "execute_result"
    }
   ],
   "source": [
    "df_final = df_inad.join(df_unit_data, on='Unidade')\n",
    "\n",
    "df_final.write_excel('.sample/Bandeira3/Inadimplencia_Final.xlsx')"
   ]
  }
 ],
 "metadata": {
  "kernelspec": {
   "display_name": ".venv",
   "language": "python",
   "name": "python3"
  },
  "language_info": {
   "codemirror_mode": {
    "name": "ipython",
    "version": 3
   },
   "file_extension": ".py",
   "mimetype": "text/x-python",
   "name": "python",
   "nbconvert_exporter": "python",
   "pygments_lexer": "ipython3",
   "version": "3.12.3"
  }
 },
 "nbformat": 4,
 "nbformat_minor": 2
}
